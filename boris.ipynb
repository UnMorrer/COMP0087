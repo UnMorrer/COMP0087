{
 "cells": [
  {
   "cell_type": "code",
   "execution_count": 49,
   "metadata": {},
   "outputs": [],
   "source": [
    "import os\n",
    "import openai\n",
    "import backoff\n",
    "import numpy as np\n",
    "import pandas as pd\n"
   ]
  },
  {
   "cell_type": "code",
   "execution_count": 50,
   "metadata": {},
   "outputs": [],
   "source": [
    "# Insert your key below. \n",
    "openai.api_key = None\n",
    "\n",
    "\n",
    "@backoff.on_exception(backoff.expo, openai.error.RateLimitError)\n",
    "def get_response(model, prompt, temperature, max_tokens, top_p, frequency_penalty, presence_penalty):\n",
    "\n",
    "    response = openai.Completion.create(\n",
    "        model=model,\n",
    "        prompt=prompt,\n",
    "        temperature=temperature,\n",
    "        max_tokens=max_tokens,\n",
    "        top_p=top_p,\n",
    "        frequency_penalty=frequency_penalty,\n",
    "        presence_penalty=presence_penalty)\n",
    "\n",
    "    return response\n",
    "\n",
    "\n",
    "\n"
   ]
  },
  {
   "cell_type": "code",
   "execution_count": 51,
   "metadata": {},
   "outputs": [],
   "source": [
    "def save_response(id,response):\n",
    "    path = os.path.join(\"Dataset\", str(id)+\".txt\") \n",
    "    with open(path, 'w') as f:\n",
    "        f.write(response[\"choices\"][0][\"text\"])"
   ]
  },
  {
   "cell_type": "code",
   "execution_count": 52,
   "metadata": {},
   "outputs": [],
   "source": [
    "def generate_examples(number, start_id, prompt, model, essay_lengths_distribution, temperature_min, temperature_max, penalty_min =0, penalty_max = 0):\n",
    "    ids = []\n",
    "    temps = []\n",
    "    freq_pens = []\n",
    "    pres_pens = []\n",
    "    essay_lengths = []\n",
    "\n",
    "    \n",
    "\n",
    "    for id in range(start_id, start_id+number):\n",
    "        \n",
    "        temperature = np.random.uniform(temperature_min, temperature_max)\n",
    "        frequency_penalty = np.random.uniform(penalty_min, penalty_max)\n",
    "        presence_penalty = np.random.uniform(penalty_min, penalty_max)\n",
    "\n",
    "        # GPT-3 API expends max_tokens for the input prompt too, so we add the number of words in the input prompt to the desired length\n",
    "        essay_length = np.random.choice(essay_lengths_distribution) + len(prompt.split())\n",
    "        essay_length_tokens = int(essay_length * 1000 /750)\n",
    "\n",
    "        resp = get_response(model=model, prompt=prompt, temperature=temperature, max_tokens=essay_length_tokens, top_p=1, frequency_penalty=frequency_penalty, presence_penalty=presence_penalty)\n",
    "        save_response(id,resp)\n",
    "\n",
    "        ids.append(id)\n",
    "        temps.append(temperature)\n",
    "        freq_pens.append(frequency_penalty)\n",
    "        pres_pens.append(presence_penalty)\n",
    "        essay_lengths.append(essay_length)\n",
    "\n",
    "    \n",
    "\n",
    "    df = pd.DataFrame({\"IDs\" : ids})\n",
    "\n",
    "    df[\"Prompt\"] = prompt\n",
    "    df[\"Essay Length\"] = essay_lengths\n",
    "    df[\"Model\"] = model\n",
    "    df[\"Temperature\"] = temps\n",
    "    df[\"Frequency Penalty\"] = freq_pens\n",
    "    df[\"Presence Penalty\"] = pres_pens\n",
    "\n",
    "    df.to_csv(\"Parameters_for_IDS_\" + str(start_id) + \"_\" + str(start_id+number-1)+\".csv\", index = False)\n",
    "\n",
    "\n",
    "        "
   ]
  },
  {
   "cell_type": "code",
   "execution_count": 53,
   "metadata": {},
   "outputs": [],
   "source": [
    "lengths_distribution = pd.read_csv(\"essay_lengths.csv\")\n",
    "lengths_distributions_1 = lengths_distribution[\"essay_length\"][lengths_distribution.essay_set == 1]\n",
    "lengths_distributions_2 = lengths_distribution[\"essay_length\"][lengths_distribution.essay_set == 2]\n",
    "lengths_distributions_7 = lengths_distribution[\"essay_length\"][lengths_distribution.essay_set == 7]\n",
    "lengths_distributions_8 = lengths_distribution[\"essay_length\"][lengths_distribution.essay_set == 8]"
   ]
  },
  {
   "cell_type": "code",
   "execution_count": 54,
   "metadata": {},
   "outputs": [],
   "source": [
    "essay_question = 'More and more people use computers, but not everyone agrees that this benefits society. Those who support advances in technology believe that computers have a positive effect on people. They teach hand-eye coordination, give people the ability to learn about faraway places and people, and even allow people to talk online with other people. Others have different ideas. Some experts are concerned that people are spending too much time on their computers and less time exercising, enjoying nature, and interacting with family and friends. Write a letter to your local newspaper in which you state your opinion on the effects computers have on people. Persuade the readers to agree with you.'\n",
    "generate_examples(number=500, start_id=0, prompt = essay_question, model = \"text-davinci-003\", essay_lengths_distribution=lengths_distributions_1, temperature_min=0, temperature_max=1, penalty_min =0, penalty_max = 1)"
   ]
  },
  {
   "cell_type": "code",
   "execution_count": 55,
   "metadata": {},
   "outputs": [],
   "source": [
    "essay_question = 'Censorship in the Libraries. \"All of us can think of a book that we hope none of our children or any other children have taken off the shelf. But if I have the right to remove that book from the shelf -- that work I abhor -- then you also have exactly the same right and so does everyone else. And then we have no books left on the shelf for any of us.\" --Katherine Paterson, Author. Write a persuasive essay to a newspaper reflecting your views on censorship in libraries. Do you believe that certain materials, such as books, music, movies, magazines, etc., should be removed from the shelves if they are found offensive? Support your position with convincing arguments from your own experience, observations, and/or reading.'\n",
    "generate_examples(number=500, start_id=500, prompt = essay_question, model = \"text-davinci-003\", essay_lengths_distribution=lengths_distributions_2, temperature_min=0, temperature_max=1, penalty_min =0, penalty_max = 1)"
   ]
  },
  {
   "cell_type": "code",
   "execution_count": 56,
   "metadata": {},
   "outputs": [],
   "source": [
    "essay_question = 'Write about patience. Being patient means that you are understanding and tolerant. A patient person experience difficulties without complaining. Do only one of the following: write a story about a time when you were patient OR write a story about a time when someone you know was patient OR write a story in your own way about patience.'\n",
    "generate_examples(number=500, start_id=1000, prompt = essay_question, model = \"text-davinci-003\", essay_lengths_distribution=lengths_distributions_7, temperature_min=0, temperature_max=1, penalty_min =0, penalty_max = 1)"
   ]
  },
  {
   "cell_type": "code",
   "execution_count": 57,
   "metadata": {},
   "outputs": [],
   "source": [
    "essay_question = 'We all understand the benefits of laughter. For example, someone once said, “Laughter is the shortest distance between two people.” Many other people believe that laughter is an important part of any relationship. Tell a true story in which laughter was one element or part.'\n",
    "generate_examples(number=500, start_id=1500, prompt = essay_question, model = \"text-davinci-003\", essay_lengths_distribution=lengths_distributions_8, temperature_min=0, temperature_max=1, penalty_min =0, penalty_max = 1)"
   ]
  },
  {
   "cell_type": "code",
   "execution_count": null,
   "metadata": {},
   "outputs": [],
   "source": []
  }
 ],
 "metadata": {
  "kernelspec": {
   "display_name": "COMP0137",
   "language": "python",
   "name": "python3"
  },
  "language_info": {
   "codemirror_mode": {
    "name": "ipython",
    "version": 3
   },
   "file_extension": ".py",
   "mimetype": "text/x-python",
   "name": "python",
   "nbconvert_exporter": "python",
   "pygments_lexer": "ipython3",
   "version": "3.10.6"
  },
  "orig_nbformat": 4,
  "vscode": {
   "interpreter": {
    "hash": "ac531bc575a8357fbbc35afb402644a21e072c5de947ee1da5cd4781029f8a4e"
   }
  }
 },
 "nbformat": 4,
 "nbformat_minor": 2
}
